{
  "nbformat": 4,
  "nbformat_minor": 0,
  "metadata": {
    "colab": {
      "provenance": [],
      "include_colab_link": true
    },
    "kernelspec": {
      "name": "python3",
      "display_name": "Python 3"
    },
    "language_info": {
      "name": "python"
    }
  },
  "cells": [
    {
      "cell_type": "markdown",
      "metadata": {
        "id": "view-in-github",
        "colab_type": "text"
      },
      "source": [
        "<a href=\"https://colab.research.google.com/github/Devansh-Vaidya/FeatureMapping/blob/main/COMP478.ipynb\" target=\"_parent\"><img src=\"https://colab.research.google.com/assets/colab-badge.svg\" alt=\"Open In Colab\"/></a>"
      ]
    },
    {
      "cell_type": "markdown",
      "source": [
        "<h1>Image Processing - Feature Mapping</h1>\n"
      ],
      "metadata": {
        "id": "lkL7uKZBD93L"
      }
    },
    {
      "cell_type": "markdown",
      "source": [
        "Import Python Modules:"
      ],
      "metadata": {
        "id": "KH9TPQrFHpzT"
      }
    },
    {
      "cell_type": "code",
      "source": [
        "import matplotlib.pyplot as plt\n",
        "import numpy as np\n",
        "from skimage import io\n",
        "from skimage.transform import resize\n",
        "from skimage.util import img_as_float\n",
        "from skimage.color import rgb2gray\n",
        "from skimage.feature import match_descriptors, SIFT\n",
        "import cv2"
      ],
      "metadata": {
        "id": "FEqKKJvDG6d-"
      },
      "execution_count": 1,
      "outputs": []
    },
    {
      "cell_type": "markdown",
      "source": [
        "Utility Functions:"
      ],
      "metadata": {
        "id": "FefaRynZFkhz"
      }
    },
    {
      "cell_type": "code",
      "source": [
        "def visualize_box(template, target, H):\n",
        "    # visualize the detected box of the template in target\n",
        "    nrow, ncol = template.shape[:2]\n",
        "    row = np.array([0, 0, nrow - 1, nrow - 1, 0]).astype(float)\n",
        "    col = np.array([0, ncol-1, ncol-1, 0, 0]).astype(float)\n",
        "    x = H[0, 0]*col + H[0, 1]*row + H[0, 2]\n",
        "    y = H[1, 0]*col + H[1, 1]*row + H[1, 2]\n",
        "    w = H[2, 0]*col + H[2, 1]*row + H[2, 2]\n",
        "    x = x / w\n",
        "    y = y / w\n",
        "    x = np.round(x).astype(int)\n",
        "    y = np.round(y).astype(int)\n",
        "    plt.imshow(target)\n",
        "    plt.plot(x, y, 'r-')\n",
        "    plt.show()\n",
        "\n",
        "\n",
        "def visualize_match(template, target, locs1, locs2, matches):\n",
        "    # assume template has fewer rows. Both template/target are grayscale\n",
        "    assert(template.ndim == 2)\n",
        "    assert(target.ndim == 2)\n",
        "    nrow1, ncol1 = template.shape[:2]\n",
        "    nrow2 = target.shape[0]\n",
        "    template = np.pad(template, ((0, nrow2 - nrow1), (0, 0)))\n",
        "\n",
        "    img = np.hstack((template, target))\n",
        "\n",
        "    plt.imshow(img, cmap='gray')\n",
        "    i1 = matches[:, 0]\n",
        "    i2 = matches[:, 1]\n",
        "    x1 = locs1[i1, 1]\n",
        "    y1 = locs1[i1, 0]\n",
        "    x2 = locs2[i2, 1] + ncol1\n",
        "    y2 = locs2[i2, 0]\n",
        "    plt.plot([x1, x2], [y1, y2])\n",
        "    plt.show()"
      ],
      "metadata": {
        "id": "ozlSbRJoHBiw"
      },
      "execution_count": 2,
      "outputs": []
    },
    {
      "cell_type": "markdown",
      "source": [
        "**Image Matching:**"
      ],
      "metadata": {
        "id": "dk4zGQp1Izxi"
      }
    },
    {
      "cell_type": "code",
      "source": [
        "def matchPics(I1, I2):\n",
        "    sift_desc = SIFT()\n",
        "\n",
        "    sift_desc.detect_and_extract(I1)\n",
        "    locs1 = sift_desc.keypoints\n",
        "    descs1 = sift_desc.descriptors\n",
        "\n",
        "    sift_desc.detect_and_extract(rgb2gray(I2))\n",
        "    locs2 = sift_desc.keypoints\n",
        "    descs2 = sift_desc.descriptors\n",
        "\n",
        "    matches = match_descriptors(descs1, descs2, max_ratio=0.6,\n",
        "                                cross_check=True)\n",
        "\n",
        "    return matches, locs1, locs2"
      ],
      "metadata": {
        "id": "g7SMh0jXKm6X"
      },
      "execution_count": 3,
      "outputs": []
    },
    {
      "cell_type": "markdown",
      "source": [
        "**Compute Homography:**"
      ],
      "metadata": {
        "id": "uvTVw-_jK8Kg"
      }
    },
    {
      "cell_type": "code",
      "source": [
        "def computeH_ransac(matches, locs1, locs2):\n",
        "\n",
        "    # Compute the best fitting homography using RANSAC given a list of matching pairs\n",
        "    inliers = np.zeros((0, 2))\n",
        "    bestH = None\n",
        "    THRESHOLD = 0.75\n",
        "    for i in range(500):\n",
        "        # Selecting 4 random points\n",
        "        pts = matches[np.random.choice(matches.shape[0], 4, replace=False)]\n",
        "\n",
        "        # Computing homography using the 4 points from matches\n",
        "        A = np.zeros((pts.shape[0] * 2, 9))\n",
        "        for i in range(pts.shape[0]):\n",
        "            x1 = locs1[pts[i, 0], 1]\n",
        "            y1 = locs1[pts[i, 0], 0]\n",
        "            x2 = locs2[pts[i, 1], 1]\n",
        "            y2 = locs2[pts[i, 1], 0]\n",
        "            A[i * 2, :] = [-x1, -y1, -1, 0, 0, 0, x2 * x1, x2 * y1, x2]\n",
        "            A[i * 2 + 1, :] = [0, 0, 0, -x1, -y1, -1, y2 * x1, y2 * y1, y2]\n",
        "        U, S, Vt = np.linalg.svd(A)\n",
        "        H = np.reshape(Vt[8], (3, 3))\n",
        "        N = []\n",
        "\n",
        "        # Checking for inliers\n",
        "        for i in range(len(matches)):\n",
        "            p1 = np.transpose(\n",
        "                np.matrix([locs1[matches[i, 0], 1], locs1[matches[i, 0], 0], 1]))\n",
        "            p2 = np.transpose(\n",
        "                np.matrix([locs2[matches[i, 1], 1], locs2[matches[i, 1], 0], 1]))\n",
        "\n",
        "            estimatep2 = np.dot(H, p1)\n",
        "            estimatep2 = estimatep2/estimatep2[2]\n",
        "            error = p2 - estimatep2\n",
        "            d = np.linalg.norm(error)\n",
        "\n",
        "            if d < 0.75:\n",
        "                N.append(i)\n",
        "\n",
        "        if len(N) > len(inliers):\n",
        "            inliers = N\n",
        "            bestH = H\n",
        "\n",
        "        if len(inliers) > (len(matches) * THRESHOLD):\n",
        "            break\n",
        "\n",
        "    return bestH, inliers"
      ],
      "metadata": {
        "id": "GrN7iZqYLA4p"
      },
      "execution_count": null,
      "outputs": []
    },
    {
      "cell_type": "markdown",
      "source": [
        "**Image Warping:**"
      ],
      "metadata": {
        "id": "EScvbVINLLub"
      }
    },
    {
      "cell_type": "code",
      "source": [
        "def compositeH(H, template, img):\n",
        "\n",
        "    # Create a compositie image after warping the template image on top\n",
        "    # of the image using homography\n",
        "    height, width = img.shape[:2]\n",
        "\n",
        "    # Create mask of same size as template\n",
        "    mask = np.full_like(template, fill_value=255)\n",
        "\n",
        "    # Warp mask by appropriate homography\n",
        "    warped_mask = cv2.warpPerspective(mask, H, (width, height))\n",
        "    inv_mask = cv2.bitwise_not(warped_mask)\n",
        "\n",
        "    # Warp template by appropriate homography\n",
        "    warped_template = cv2.warpPerspective(\n",
        "        template, H, (width, height))\n",
        "\n",
        "    # Use mask to combine the warped template and the image\n",
        "    combine_mask = cv2.bitwise_and(img, inv_mask)\n",
        "    composite_img = cv2.add(combine_mask, warped_template)\n",
        "\n",
        "    return composite_img"
      ],
      "metadata": {
        "id": "IF_BNshlLQZQ"
      },
      "execution_count": null,
      "outputs": []
    },
    {
      "cell_type": "markdown",
      "source": [
        "**Reading Images:**"
      ],
      "metadata": {
        "id": "DZzVcyBJLdsc"
      }
    },
    {
      "cell_type": "code",
      "source": [
        "cv_desk = img_as_float(io.imread('/content/book1_desk_2.jpg'))\n",
        "cv_desk_gray = rgb2gray(cv_desk)\n",
        "as_float = img_as_float(io.imread('/content/book1_cover.jpg'))\n",
        "cv_cover = rgb2gray(as_float)\n",
        "hp_cover = img_as_float(io.imread('/content/drive/MyDrive/Colab Notebooks/images/hp_cover.jpg'))"
      ],
      "metadata": {
        "id": "Q28GXXxPLipZ",
        "colab": {
          "base_uri": "https://localhost:8080/",
          "height": 381
        },
        "outputId": "ee0efd52-03f6-43f1-8a55-2fc4a13656f8"
      },
      "execution_count": null,
      "outputs": [
        {
          "output_type": "error",
          "ename": "FileNotFoundError",
          "evalue": "ignored",
          "traceback": [
            "\u001b[0;31m---------------------------------------------------------------------------\u001b[0m",
            "\u001b[0;31mFileNotFoundError\u001b[0m                         Traceback (most recent call last)",
            "\u001b[0;32m<ipython-input-7-528e4afc0f50>\u001b[0m in \u001b[0;36m<cell line: 1>\u001b[0;34m()\u001b[0m\n\u001b[0;32m----> 1\u001b[0;31m \u001b[0mcv_desk\u001b[0m \u001b[0;34m=\u001b[0m \u001b[0mimg_as_float\u001b[0m\u001b[0;34m(\u001b[0m\u001b[0mio\u001b[0m\u001b[0;34m.\u001b[0m\u001b[0mimread\u001b[0m\u001b[0;34m(\u001b[0m\u001b[0;34m'book_desk_2.jpg'\u001b[0m\u001b[0;34m)\u001b[0m\u001b[0;34m)\u001b[0m\u001b[0;34m\u001b[0m\u001b[0;34m\u001b[0m\u001b[0m\n\u001b[0m\u001b[1;32m      2\u001b[0m \u001b[0mcv_desk_gray\u001b[0m \u001b[0;34m=\u001b[0m \u001b[0mrgb2gray\u001b[0m\u001b[0;34m(\u001b[0m\u001b[0mcv_desk\u001b[0m\u001b[0;34m)\u001b[0m\u001b[0;34m\u001b[0m\u001b[0;34m\u001b[0m\u001b[0m\n\u001b[1;32m      3\u001b[0m \u001b[0mas_float\u001b[0m \u001b[0;34m=\u001b[0m \u001b[0mimg_as_float\u001b[0m\u001b[0;34m(\u001b[0m\u001b[0mio\u001b[0m\u001b[0;34m.\u001b[0m\u001b[0mimread\u001b[0m\u001b[0;34m(\u001b[0m\u001b[0;34m'book_cover.jpg'\u001b[0m\u001b[0;34m)\u001b[0m\u001b[0;34m)\u001b[0m\u001b[0;34m\u001b[0m\u001b[0;34m\u001b[0m\u001b[0m\n\u001b[1;32m      4\u001b[0m \u001b[0mcv_cover\u001b[0m \u001b[0;34m=\u001b[0m \u001b[0mrgb2gray\u001b[0m\u001b[0;34m(\u001b[0m\u001b[0mas_float\u001b[0m\u001b[0;34m)\u001b[0m\u001b[0;34m\u001b[0m\u001b[0;34m\u001b[0m\u001b[0m\n\u001b[1;32m      5\u001b[0m \u001b[0mhp_cover\u001b[0m \u001b[0;34m=\u001b[0m \u001b[0mimg_as_float\u001b[0m\u001b[0;34m(\u001b[0m\u001b[0mio\u001b[0m\u001b[0;34m.\u001b[0m\u001b[0mimread\u001b[0m\u001b[0;34m(\u001b[0m\u001b[0;34m'hp_cover.jpg'\u001b[0m\u001b[0;34m)\u001b[0m\u001b[0;34m)\u001b[0m\u001b[0;34m\u001b[0m\u001b[0;34m\u001b[0m\u001b[0m\n",
            "\u001b[0;32m/usr/local/lib/python3.9/dist-packages/skimage/io/_io.py\u001b[0m in \u001b[0;36mimread\u001b[0;34m(fname, as_gray, plugin, **plugin_args)\u001b[0m\n\u001b[1;32m     51\u001b[0m \u001b[0;34m\u001b[0m\u001b[0m\n\u001b[1;32m     52\u001b[0m     \u001b[0;32mwith\u001b[0m \u001b[0mfile_or_url_context\u001b[0m\u001b[0;34m(\u001b[0m\u001b[0mfname\u001b[0m\u001b[0;34m)\u001b[0m \u001b[0;32mas\u001b[0m \u001b[0mfname\u001b[0m\u001b[0;34m:\u001b[0m\u001b[0;34m\u001b[0m\u001b[0;34m\u001b[0m\u001b[0m\n\u001b[0;32m---> 53\u001b[0;31m         \u001b[0mimg\u001b[0m \u001b[0;34m=\u001b[0m \u001b[0mcall_plugin\u001b[0m\u001b[0;34m(\u001b[0m\u001b[0;34m'imread'\u001b[0m\u001b[0;34m,\u001b[0m \u001b[0mfname\u001b[0m\u001b[0;34m,\u001b[0m \u001b[0mplugin\u001b[0m\u001b[0;34m=\u001b[0m\u001b[0mplugin\u001b[0m\u001b[0;34m,\u001b[0m \u001b[0;34m**\u001b[0m\u001b[0mplugin_args\u001b[0m\u001b[0;34m)\u001b[0m\u001b[0;34m\u001b[0m\u001b[0;34m\u001b[0m\u001b[0m\n\u001b[0m\u001b[1;32m     54\u001b[0m \u001b[0;34m\u001b[0m\u001b[0m\n\u001b[1;32m     55\u001b[0m     \u001b[0;32mif\u001b[0m \u001b[0;32mnot\u001b[0m \u001b[0mhasattr\u001b[0m\u001b[0;34m(\u001b[0m\u001b[0mimg\u001b[0m\u001b[0;34m,\u001b[0m \u001b[0;34m'ndim'\u001b[0m\u001b[0;34m)\u001b[0m\u001b[0;34m:\u001b[0m\u001b[0;34m\u001b[0m\u001b[0;34m\u001b[0m\u001b[0m\n",
            "\u001b[0;32m/usr/local/lib/python3.9/dist-packages/skimage/io/manage_plugins.py\u001b[0m in \u001b[0;36mcall_plugin\u001b[0;34m(kind, *args, **kwargs)\u001b[0m\n\u001b[1;32m    205\u001b[0m                                (plugin, kind))\n\u001b[1;32m    206\u001b[0m \u001b[0;34m\u001b[0m\u001b[0m\n\u001b[0;32m--> 207\u001b[0;31m     \u001b[0;32mreturn\u001b[0m \u001b[0mfunc\u001b[0m\u001b[0;34m(\u001b[0m\u001b[0;34m*\u001b[0m\u001b[0margs\u001b[0m\u001b[0;34m,\u001b[0m \u001b[0;34m**\u001b[0m\u001b[0mkwargs\u001b[0m\u001b[0;34m)\u001b[0m\u001b[0;34m\u001b[0m\u001b[0;34m\u001b[0m\u001b[0m\n\u001b[0m\u001b[1;32m    208\u001b[0m \u001b[0;34m\u001b[0m\u001b[0m\n\u001b[1;32m    209\u001b[0m \u001b[0;34m\u001b[0m\u001b[0m\n",
            "\u001b[0;32m/usr/local/lib/python3.9/dist-packages/skimage/io/_plugins/imageio_plugin.py\u001b[0m in \u001b[0;36mimread\u001b[0;34m(*args, **kwargs)\u001b[0m\n\u001b[1;32m     13\u001b[0m \u001b[0;34m@\u001b[0m\u001b[0mwraps\u001b[0m\u001b[0;34m(\u001b[0m\u001b[0mimageio_imread\u001b[0m\u001b[0;34m)\u001b[0m\u001b[0;34m\u001b[0m\u001b[0;34m\u001b[0m\u001b[0m\n\u001b[1;32m     14\u001b[0m \u001b[0;32mdef\u001b[0m \u001b[0mimread\u001b[0m\u001b[0;34m(\u001b[0m\u001b[0;34m*\u001b[0m\u001b[0margs\u001b[0m\u001b[0;34m,\u001b[0m \u001b[0;34m**\u001b[0m\u001b[0mkwargs\u001b[0m\u001b[0;34m)\u001b[0m\u001b[0;34m:\u001b[0m\u001b[0;34m\u001b[0m\u001b[0;34m\u001b[0m\u001b[0m\n\u001b[0;32m---> 15\u001b[0;31m     \u001b[0;32mreturn\u001b[0m \u001b[0mnp\u001b[0m\u001b[0;34m.\u001b[0m\u001b[0masarray\u001b[0m\u001b[0;34m(\u001b[0m\u001b[0mimageio_imread\u001b[0m\u001b[0;34m(\u001b[0m\u001b[0;34m*\u001b[0m\u001b[0margs\u001b[0m\u001b[0;34m,\u001b[0m \u001b[0;34m**\u001b[0m\u001b[0mkwargs\u001b[0m\u001b[0;34m)\u001b[0m\u001b[0;34m)\u001b[0m\u001b[0;34m\u001b[0m\u001b[0;34m\u001b[0m\u001b[0m\n\u001b[0m",
            "\u001b[0;32m/usr/local/lib/python3.9/dist-packages/imageio/v2.py\u001b[0m in \u001b[0;36mimread\u001b[0;34m(uri, format, **kwargs)\u001b[0m\n\u001b[1;32m    224\u001b[0m     \u001b[0mimopen_args\u001b[0m\u001b[0;34m[\u001b[0m\u001b[0;34m\"legacy_mode\"\u001b[0m\u001b[0;34m]\u001b[0m \u001b[0;34m=\u001b[0m \u001b[0;32mTrue\u001b[0m\u001b[0;34m\u001b[0m\u001b[0;34m\u001b[0m\u001b[0m\n\u001b[1;32m    225\u001b[0m \u001b[0;34m\u001b[0m\u001b[0m\n\u001b[0;32m--> 226\u001b[0;31m     \u001b[0;32mwith\u001b[0m \u001b[0mimopen\u001b[0m\u001b[0;34m(\u001b[0m\u001b[0muri\u001b[0m\u001b[0;34m,\u001b[0m \u001b[0;34m\"ri\"\u001b[0m\u001b[0;34m,\u001b[0m \u001b[0;34m**\u001b[0m\u001b[0mimopen_args\u001b[0m\u001b[0;34m)\u001b[0m \u001b[0;32mas\u001b[0m \u001b[0mfile\u001b[0m\u001b[0;34m:\u001b[0m\u001b[0;34m\u001b[0m\u001b[0;34m\u001b[0m\u001b[0m\n\u001b[0m\u001b[1;32m    227\u001b[0m         \u001b[0mresult\u001b[0m \u001b[0;34m=\u001b[0m \u001b[0mfile\u001b[0m\u001b[0;34m.\u001b[0m\u001b[0mread\u001b[0m\u001b[0;34m(\u001b[0m\u001b[0mindex\u001b[0m\u001b[0;34m=\u001b[0m\u001b[0;36m0\u001b[0m\u001b[0;34m,\u001b[0m \u001b[0;34m**\u001b[0m\u001b[0mkwargs\u001b[0m\u001b[0;34m)\u001b[0m\u001b[0;34m\u001b[0m\u001b[0;34m\u001b[0m\u001b[0m\n\u001b[1;32m    228\u001b[0m \u001b[0;34m\u001b[0m\u001b[0m\n",
            "\u001b[0;32m/usr/local/lib/python3.9/dist-packages/imageio/core/imopen.py\u001b[0m in \u001b[0;36mimopen\u001b[0;34m(uri, io_mode, plugin, extension, format_hint, legacy_mode, **kwargs)\u001b[0m\n\u001b[1;32m    111\u001b[0m         \u001b[0mrequest\u001b[0m\u001b[0;34m.\u001b[0m\u001b[0mformat_hint\u001b[0m \u001b[0;34m=\u001b[0m \u001b[0mformat_hint\u001b[0m\u001b[0;34m\u001b[0m\u001b[0;34m\u001b[0m\u001b[0m\n\u001b[1;32m    112\u001b[0m     \u001b[0;32melse\u001b[0m\u001b[0;34m:\u001b[0m\u001b[0;34m\u001b[0m\u001b[0;34m\u001b[0m\u001b[0m\n\u001b[0;32m--> 113\u001b[0;31m         \u001b[0mrequest\u001b[0m \u001b[0;34m=\u001b[0m \u001b[0mRequest\u001b[0m\u001b[0;34m(\u001b[0m\u001b[0muri\u001b[0m\u001b[0;34m,\u001b[0m \u001b[0mio_mode\u001b[0m\u001b[0;34m,\u001b[0m \u001b[0mformat_hint\u001b[0m\u001b[0;34m=\u001b[0m\u001b[0mformat_hint\u001b[0m\u001b[0;34m,\u001b[0m \u001b[0mextension\u001b[0m\u001b[0;34m=\u001b[0m\u001b[0mextension\u001b[0m\u001b[0;34m)\u001b[0m\u001b[0;34m\u001b[0m\u001b[0;34m\u001b[0m\u001b[0m\n\u001b[0m\u001b[1;32m    114\u001b[0m \u001b[0;34m\u001b[0m\u001b[0m\n\u001b[1;32m    115\u001b[0m     \u001b[0msource\u001b[0m \u001b[0;34m=\u001b[0m \u001b[0;34m\"<bytes>\"\u001b[0m \u001b[0;32mif\u001b[0m \u001b[0misinstance\u001b[0m\u001b[0;34m(\u001b[0m\u001b[0muri\u001b[0m\u001b[0;34m,\u001b[0m \u001b[0mbytes\u001b[0m\u001b[0;34m)\u001b[0m \u001b[0;32melse\u001b[0m \u001b[0muri\u001b[0m\u001b[0;34m\u001b[0m\u001b[0;34m\u001b[0m\u001b[0m\n",
            "\u001b[0;32m/usr/local/lib/python3.9/dist-packages/imageio/core/request.py\u001b[0m in \u001b[0;36m__init__\u001b[0;34m(self, uri, mode, extension, format_hint, **kwargs)\u001b[0m\n\u001b[1;32m    245\u001b[0m \u001b[0;34m\u001b[0m\u001b[0m\n\u001b[1;32m    246\u001b[0m         \u001b[0;31m# Parse what was given\u001b[0m\u001b[0;34m\u001b[0m\u001b[0;34m\u001b[0m\u001b[0m\n\u001b[0;32m--> 247\u001b[0;31m         \u001b[0mself\u001b[0m\u001b[0;34m.\u001b[0m\u001b[0m_parse_uri\u001b[0m\u001b[0;34m(\u001b[0m\u001b[0muri\u001b[0m\u001b[0;34m)\u001b[0m\u001b[0;34m\u001b[0m\u001b[0;34m\u001b[0m\u001b[0m\n\u001b[0m\u001b[1;32m    248\u001b[0m \u001b[0;34m\u001b[0m\u001b[0m\n\u001b[1;32m    249\u001b[0m         \u001b[0;31m# Set extension\u001b[0m\u001b[0;34m\u001b[0m\u001b[0;34m\u001b[0m\u001b[0m\n",
            "\u001b[0;32m/usr/local/lib/python3.9/dist-packages/imageio/core/request.py\u001b[0m in \u001b[0;36m_parse_uri\u001b[0;34m(self, uri)\u001b[0m\n\u001b[1;32m    405\u001b[0m                 \u001b[0;31m# Reading: check that the file exists (but is allowed a dir)\u001b[0m\u001b[0;34m\u001b[0m\u001b[0;34m\u001b[0m\u001b[0m\n\u001b[1;32m    406\u001b[0m                 \u001b[0;32mif\u001b[0m \u001b[0;32mnot\u001b[0m \u001b[0mos\u001b[0m\u001b[0;34m.\u001b[0m\u001b[0mpath\u001b[0m\u001b[0;34m.\u001b[0m\u001b[0mexists\u001b[0m\u001b[0;34m(\u001b[0m\u001b[0mfn\u001b[0m\u001b[0;34m)\u001b[0m\u001b[0;34m:\u001b[0m\u001b[0;34m\u001b[0m\u001b[0;34m\u001b[0m\u001b[0m\n\u001b[0;32m--> 407\u001b[0;31m                     \u001b[0;32mraise\u001b[0m \u001b[0mFileNotFoundError\u001b[0m\u001b[0;34m(\u001b[0m\u001b[0;34m\"No such file: '%s'\"\u001b[0m \u001b[0;34m%\u001b[0m \u001b[0mfn\u001b[0m\u001b[0;34m)\u001b[0m\u001b[0;34m\u001b[0m\u001b[0;34m\u001b[0m\u001b[0m\n\u001b[0m\u001b[1;32m    408\u001b[0m             \u001b[0;32melse\u001b[0m\u001b[0;34m:\u001b[0m\u001b[0;34m\u001b[0m\u001b[0;34m\u001b[0m\u001b[0m\n\u001b[1;32m    409\u001b[0m                 \u001b[0;31m# Writing: check that the directory to write to does exist\u001b[0m\u001b[0;34m\u001b[0m\u001b[0;34m\u001b[0m\u001b[0m\n",
            "\u001b[0;31mFileNotFoundError\u001b[0m: No such file: '/content/book_desk_2.jpg'"
          ]
        }
      ]
    },
    {
      "cell_type": "markdown",
      "source": [
        "**Finding matches between 2 images:**"
      ],
      "metadata": {
        "id": "n7XOwuzWLl9-"
      }
    },
    {
      "cell_type": "code",
      "source": [
        "# finding candidate matching pairs between two images\n",
        "matches, locs1, locs2 = matchPics(cv_cover, cv_desk)"
      ],
      "metadata": {
        "id": "-iAphwyqLtYo",
        "colab": {
          "base_uri": "https://localhost:8080/",
          "height": 184
        },
        "outputId": "a41e75f4-eede-463e-b421-1e51dbdb7179"
      },
      "execution_count": null,
      "outputs": [
        {
          "output_type": "error",
          "ename": "NameError",
          "evalue": "ignored",
          "traceback": [
            "\u001b[0;31m---------------------------------------------------------------------------\u001b[0m",
            "\u001b[0;31mNameError\u001b[0m                                 Traceback (most recent call last)",
            "\u001b[0;32m<ipython-input-8-7e812ef1e72f>\u001b[0m in \u001b[0;36m<cell line: 2>\u001b[0;34m()\u001b[0m\n\u001b[1;32m      1\u001b[0m \u001b[0;31m# finding candidate matching pairs between two images\u001b[0m\u001b[0;34m\u001b[0m\u001b[0;34m\u001b[0m\u001b[0m\n\u001b[0;32m----> 2\u001b[0;31m \u001b[0mmatches\u001b[0m\u001b[0;34m,\u001b[0m \u001b[0mlocs1\u001b[0m\u001b[0;34m,\u001b[0m \u001b[0mlocs2\u001b[0m \u001b[0;34m=\u001b[0m \u001b[0mmatchPics\u001b[0m\u001b[0;34m(\u001b[0m\u001b[0mcv_cover\u001b[0m\u001b[0;34m,\u001b[0m \u001b[0mcv_desk\u001b[0m\u001b[0;34m)\u001b[0m\u001b[0;34m\u001b[0m\u001b[0;34m\u001b[0m\u001b[0m\n\u001b[0m",
            "\u001b[0;31mNameError\u001b[0m: name 'cv_cover' is not defined"
          ]
        }
      ]
    },
    {
      "cell_type": "markdown",
      "source": [
        "**Ouput of image matching:**"
      ],
      "metadata": {
        "id": "orGIHTL6LvUr"
      }
    },
    {
      "cell_type": "code",
      "source": [
        "# visualize raw matching result\n",
        "visualize_match(cv_cover, cv_desk_gray, locs1, locs2, matches)"
      ],
      "metadata": {
        "id": "ZdLv0e5jL1IN",
        "colab": {
          "base_uri": "https://localhost:8080/",
          "height": 184
        },
        "outputId": "462e4016-d899-428c-9285-a512465316f9"
      },
      "execution_count": null,
      "outputs": [
        {
          "output_type": "error",
          "ename": "NameError",
          "evalue": "ignored",
          "traceback": [
            "\u001b[0;31m---------------------------------------------------------------------------\u001b[0m",
            "\u001b[0;31mNameError\u001b[0m                                 Traceback (most recent call last)",
            "\u001b[0;32m<ipython-input-9-15fcf0b3d8f7>\u001b[0m in \u001b[0;36m<cell line: 2>\u001b[0;34m()\u001b[0m\n\u001b[1;32m      1\u001b[0m \u001b[0;31m# visualize raw matching result\u001b[0m\u001b[0;34m\u001b[0m\u001b[0;34m\u001b[0m\u001b[0m\n\u001b[0;32m----> 2\u001b[0;31m \u001b[0mvisualize_match\u001b[0m\u001b[0;34m(\u001b[0m\u001b[0mcv_cover\u001b[0m\u001b[0;34m,\u001b[0m \u001b[0mcv_desk_gray\u001b[0m\u001b[0;34m,\u001b[0m \u001b[0mlocs1\u001b[0m\u001b[0;34m,\u001b[0m \u001b[0mlocs2\u001b[0m\u001b[0;34m,\u001b[0m \u001b[0mmatches\u001b[0m\u001b[0;34m)\u001b[0m\u001b[0;34m\u001b[0m\u001b[0;34m\u001b[0m\u001b[0m\n\u001b[0m",
            "\u001b[0;31mNameError\u001b[0m: name 'cv_cover' is not defined"
          ]
        }
      ]
    },
    {
      "cell_type": "markdown",
      "source": [
        "**Resizing the other book cover:**"
      ],
      "metadata": {
        "id": "mHlBGp5yMjkK"
      }
    },
    {
      "cell_type": "code",
      "source": [
        "# resize hp_cover to have the same size of cv_cover\n",
        "hp_cover_resize = resize(hp_cover, cv_cover.shape, anti_aliasing=True)"
      ],
      "metadata": {
        "id": "Nj41bryXMjVU",
        "colab": {
          "base_uri": "https://localhost:8080/",
          "height": 184
        },
        "outputId": "38258a7f-22b1-4079-ab6c-c7f4a57ad588"
      },
      "execution_count": null,
      "outputs": [
        {
          "output_type": "error",
          "ename": "NameError",
          "evalue": "ignored",
          "traceback": [
            "\u001b[0;31m---------------------------------------------------------------------------\u001b[0m",
            "\u001b[0;31mNameError\u001b[0m                                 Traceback (most recent call last)",
            "\u001b[0;32m<ipython-input-10-55c3ca0445c3>\u001b[0m in \u001b[0;36m<cell line: 2>\u001b[0;34m()\u001b[0m\n\u001b[1;32m      1\u001b[0m \u001b[0;31m# resize hp_cover to have the same size of cv_cover\u001b[0m\u001b[0;34m\u001b[0m\u001b[0;34m\u001b[0m\u001b[0m\n\u001b[0;32m----> 2\u001b[0;31m \u001b[0mhp_cover_resize\u001b[0m \u001b[0;34m=\u001b[0m \u001b[0mresize\u001b[0m\u001b[0;34m(\u001b[0m\u001b[0mhp_cover\u001b[0m\u001b[0;34m,\u001b[0m \u001b[0mcv_cover\u001b[0m\u001b[0;34m.\u001b[0m\u001b[0mshape\u001b[0m\u001b[0;34m,\u001b[0m \u001b[0manti_aliasing\u001b[0m\u001b[0;34m=\u001b[0m\u001b[0;32mTrue\u001b[0m\u001b[0;34m)\u001b[0m\u001b[0;34m\u001b[0m\u001b[0;34m\u001b[0m\u001b[0m\n\u001b[0m",
            "\u001b[0;31mNameError\u001b[0m: name 'hp_cover' is not defined"
          ]
        }
      ]
    },
    {
      "cell_type": "markdown",
      "source": [
        "**Applying RANSAC and Estimating Homography Matrix:**"
      ],
      "metadata": {
        "id": "BWc1UsJ_NQGN"
      }
    },
    {
      "cell_type": "code",
      "source": [
        "# use RANSAC to estimate homograhy and find inlier matches\n",
        "bestH, inliers = computeH_ransac(matches, locs1, locs2)"
      ],
      "metadata": {
        "id": "UB72RbuXNPyN",
        "colab": {
          "base_uri": "https://localhost:8080/",
          "height": 184
        },
        "outputId": "5e7ee058-d3b3-42b6-a049-aa206fc13d83"
      },
      "execution_count": null,
      "outputs": [
        {
          "output_type": "error",
          "ename": "NameError",
          "evalue": "ignored",
          "traceback": [
            "\u001b[0;31m---------------------------------------------------------------------------\u001b[0m",
            "\u001b[0;31mNameError\u001b[0m                                 Traceback (most recent call last)",
            "\u001b[0;32m<ipython-input-11-8fc211209abe>\u001b[0m in \u001b[0;36m<cell line: 2>\u001b[0;34m()\u001b[0m\n\u001b[1;32m      1\u001b[0m \u001b[0;31m# use RANSAC to estimate homograhy and find inlier matches\u001b[0m\u001b[0;34m\u001b[0m\u001b[0;34m\u001b[0m\u001b[0m\n\u001b[0;32m----> 2\u001b[0;31m \u001b[0mbestH\u001b[0m\u001b[0;34m,\u001b[0m \u001b[0minliers\u001b[0m \u001b[0;34m=\u001b[0m \u001b[0mcomputeH_ransac\u001b[0m\u001b[0;34m(\u001b[0m\u001b[0mmatches\u001b[0m\u001b[0;34m,\u001b[0m \u001b[0mlocs1\u001b[0m\u001b[0;34m,\u001b[0m \u001b[0mlocs2\u001b[0m\u001b[0;34m)\u001b[0m\u001b[0;34m\u001b[0m\u001b[0;34m\u001b[0m\u001b[0m\n\u001b[0m",
            "\u001b[0;31mNameError\u001b[0m: name 'matches' is not defined"
          ]
        }
      ]
    },
    {
      "cell_type": "markdown",
      "source": [
        "**Checking result of RANSAC and boundry of target image:**"
      ],
      "metadata": {
        "id": "I9V2PSkmNdvw"
      }
    },
    {
      "cell_type": "code",
      "source": [
        "# visualize matching result after RANSAC\n",
        "visualize_match(cv_cover, cv_desk_gray, locs1, locs2, matches[inliers, :])\n",
        "\n",
        "# visualize the bounding box in target image\n",
        "visualize_box(cv_cover, cv_desk, bestH)"
      ],
      "metadata": {
        "id": "fOW7ZejhNvM4",
        "colab": {
          "base_uri": "https://localhost:8080/",
          "height": 236
        },
        "outputId": "23e3b250-5190-468e-e7e3-5861dd739bd7"
      },
      "execution_count": null,
      "outputs": [
        {
          "output_type": "error",
          "ename": "NameError",
          "evalue": "ignored",
          "traceback": [
            "\u001b[0;31m---------------------------------------------------------------------------\u001b[0m",
            "\u001b[0;31mNameError\u001b[0m                                 Traceback (most recent call last)",
            "\u001b[0;32m<ipython-input-12-7e967c3a73b2>\u001b[0m in \u001b[0;36m<cell line: 2>\u001b[0;34m()\u001b[0m\n\u001b[1;32m      1\u001b[0m \u001b[0;31m# visualize matching result after RANSAC\u001b[0m\u001b[0;34m\u001b[0m\u001b[0;34m\u001b[0m\u001b[0m\n\u001b[0;32m----> 2\u001b[0;31m \u001b[0mvisualize_match\u001b[0m\u001b[0;34m(\u001b[0m\u001b[0mcv_cover\u001b[0m\u001b[0;34m,\u001b[0m \u001b[0mcv_desk_gray\u001b[0m\u001b[0;34m,\u001b[0m \u001b[0mlocs1\u001b[0m\u001b[0;34m,\u001b[0m \u001b[0mlocs2\u001b[0m\u001b[0;34m,\u001b[0m \u001b[0mmatches\u001b[0m\u001b[0;34m[\u001b[0m\u001b[0minliers\u001b[0m\u001b[0;34m,\u001b[0m \u001b[0;34m:\u001b[0m\u001b[0;34m]\u001b[0m\u001b[0;34m)\u001b[0m\u001b[0;34m\u001b[0m\u001b[0;34m\u001b[0m\u001b[0m\n\u001b[0m\u001b[1;32m      3\u001b[0m \u001b[0;34m\u001b[0m\u001b[0m\n\u001b[1;32m      4\u001b[0m \u001b[0;31m# visualize the bounding box in target image\u001b[0m\u001b[0;34m\u001b[0m\u001b[0;34m\u001b[0m\u001b[0m\n\u001b[1;32m      5\u001b[0m \u001b[0mvisualize_box\u001b[0m\u001b[0;34m(\u001b[0m\u001b[0mcv_cover\u001b[0m\u001b[0;34m,\u001b[0m \u001b[0mcv_desk\u001b[0m\u001b[0;34m,\u001b[0m \u001b[0mbestH\u001b[0m\u001b[0;34m)\u001b[0m\u001b[0;34m\u001b[0m\u001b[0;34m\u001b[0m\u001b[0m\n",
            "\u001b[0;31mNameError\u001b[0m: name 'cv_cover' is not defined"
          ]
        }
      ]
    },
    {
      "cell_type": "markdown",
      "source": [
        "**Warping Image:**"
      ],
      "metadata": {
        "id": "vdg6MJf4NxX1"
      }
    },
    {
      "cell_type": "code",
      "source": [
        "# create final composite image\n",
        "composite_img = compositeH(bestH, hp_cover_resize, cv_desk)"
      ],
      "metadata": {
        "id": "PGBf5NrNN3Ex",
        "colab": {
          "base_uri": "https://localhost:8080/",
          "height": 184
        },
        "outputId": "23220f20-c9c4-41c7-b725-bc44c1e51ede"
      },
      "execution_count": null,
      "outputs": [
        {
          "output_type": "error",
          "ename": "NameError",
          "evalue": "ignored",
          "traceback": [
            "\u001b[0;31m---------------------------------------------------------------------------\u001b[0m",
            "\u001b[0;31mNameError\u001b[0m                                 Traceback (most recent call last)",
            "\u001b[0;32m<ipython-input-13-11821fe811f8>\u001b[0m in \u001b[0;36m<cell line: 2>\u001b[0;34m()\u001b[0m\n\u001b[1;32m      1\u001b[0m \u001b[0;31m# create final composite image\u001b[0m\u001b[0;34m\u001b[0m\u001b[0;34m\u001b[0m\u001b[0m\n\u001b[0;32m----> 2\u001b[0;31m \u001b[0mcomposite_img\u001b[0m \u001b[0;34m=\u001b[0m \u001b[0mcompositeH\u001b[0m\u001b[0;34m(\u001b[0m\u001b[0mbestH\u001b[0m\u001b[0;34m,\u001b[0m \u001b[0mhp_cover_resize\u001b[0m\u001b[0;34m,\u001b[0m \u001b[0mcv_desk\u001b[0m\u001b[0;34m)\u001b[0m\u001b[0;34m\u001b[0m\u001b[0;34m\u001b[0m\u001b[0m\n\u001b[0m",
            "\u001b[0;31mNameError\u001b[0m: name 'bestH' is not defined"
          ]
        }
      ]
    },
    {
      "cell_type": "markdown",
      "source": [
        "**Show Final Result:**"
      ],
      "metadata": {
        "id": "ZAMPLG_gN6Qf"
      }
    },
    {
      "cell_type": "code",
      "source": [
        "# show the final composite image\n",
        "plt.imshow(composite_img)\n",
        "plt.show()"
      ],
      "metadata": {
        "id": "j7GB1XBWN_UL",
        "colab": {
          "base_uri": "https://localhost:8080/",
          "height": 201
        },
        "outputId": "8e9f3fd6-c3f5-4105-dad2-ea3f824d1778"
      },
      "execution_count": null,
      "outputs": [
        {
          "output_type": "error",
          "ename": "NameError",
          "evalue": "ignored",
          "traceback": [
            "\u001b[0;31m---------------------------------------------------------------------------\u001b[0m",
            "\u001b[0;31mNameError\u001b[0m                                 Traceback (most recent call last)",
            "\u001b[0;32m<ipython-input-14-afea717ffb18>\u001b[0m in \u001b[0;36m<cell line: 2>\u001b[0;34m()\u001b[0m\n\u001b[1;32m      1\u001b[0m \u001b[0;31m# show the final composite image\u001b[0m\u001b[0;34m\u001b[0m\u001b[0;34m\u001b[0m\u001b[0m\n\u001b[0;32m----> 2\u001b[0;31m \u001b[0mplt\u001b[0m\u001b[0;34m.\u001b[0m\u001b[0mimshow\u001b[0m\u001b[0;34m(\u001b[0m\u001b[0mcomposite_img\u001b[0m\u001b[0;34m)\u001b[0m\u001b[0;34m\u001b[0m\u001b[0;34m\u001b[0m\u001b[0m\n\u001b[0m\u001b[1;32m      3\u001b[0m \u001b[0mplt\u001b[0m\u001b[0;34m.\u001b[0m\u001b[0mshow\u001b[0m\u001b[0;34m(\u001b[0m\u001b[0;34m)\u001b[0m\u001b[0;34m\u001b[0m\u001b[0;34m\u001b[0m\u001b[0m\n",
            "\u001b[0;31mNameError\u001b[0m: name 'composite_img' is not defined"
          ]
        }
      ]
    }
  ]
}